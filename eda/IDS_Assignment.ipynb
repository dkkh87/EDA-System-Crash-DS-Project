{
 "cells": [
  {
   "cell_type": "code",
   "execution_count": 75,
   "id": "e6db79df-4db2-4a3f-bb2d-6132b84b52fa",
   "metadata": {},
   "outputs": [],
   "source": [
    "import pandas as pd\n",
    "import numpy as np\n",
    "import matplotlib.pyplot as plt\n",
    "import seaborn as sns"
   ]
  },
  {
   "cell_type": "code",
   "execution_count": 76,
   "id": "e394415b-af65-4027-a092-4667504e634f",
   "metadata": {},
   "outputs": [
    {
     "name": "stdout",
     "output_type": "stream",
     "text": [
      "       App_Name  CPU_Usage  Memory_Usage  Battery_Level  Temperature  \\\n",
      "0       Netflix  82.059179     92.313822     100.000000    63.173305   \n",
      "1       Twitter  39.226704    100.000000      34.584389    45.315528   \n",
      "2       Discord  44.755186     59.324264      70.999879    44.118152   \n",
      "3         Slack  73.000172     53.898257      89.297478    60.087698   \n",
      "4        Amazon  35.775476     94.990916      63.738677    38.053615   \n",
      "...         ...        ...           ...            ...          ...   \n",
      "9995  Instagram  48.511014     55.400886      24.931910    50.573463   \n",
      "9996   WhatsApp  66.901102     44.103486      77.673902    59.279814   \n",
      "9997   WhatsApp  36.968678    100.000000      95.358833    41.378272   \n",
      "9998    Discord  21.313710     87.210100      61.614632    32.118371   \n",
      "9999  Instagram  88.487284     69.893763      64.428965    69.099167   \n",
      "\n",
      "      Disk_Space  Network_Signal  App_Version  Error_Logs Device_Model  \\\n",
      "0     250.118842       76.883998          1.0           0      Model_B   \n",
      "1     402.122482       28.226545          2.0           0      Model_B   \n",
      "2     509.025807        2.988896          1.2           1      Model_B   \n",
      "3     376.671221       49.821161          2.0           0      Model_B   \n",
      "4     109.839477       90.605804          1.1           0      Model_B   \n",
      "...          ...             ...          ...         ...          ...   \n",
      "9995  209.994076       63.782127          2.0           0      Model_A   \n",
      "9996  167.504656       16.571792          1.0           0      Model_A   \n",
      "9997   18.537610       53.873531          1.2           1      Model_B   \n",
      "9998  403.135421       37.792274          1.0           1      Model_A   \n",
      "9999  133.779182       11.049537          1.2           0      Model_B   \n",
      "\n",
      "      Session_Time  Num_App_Crashes  Duration_Since_Last_Charge  \\\n",
      "0       228.100286                0                   46.379291   \n",
      "1       225.445722                1                   47.343342   \n",
      "2       197.173982                2                   43.610371   \n",
      "3       224.384818                0                   34.652863   \n",
      "4        93.975090                3                   42.334309   \n",
      "...            ...              ...                         ...   \n",
      "9995     61.858882                1                   38.552700   \n",
      "9996     89.090434                0                   18.685638   \n",
      "9997     34.912251                1                   16.394868   \n",
      "9998    187.288631                3                   47.173387   \n",
      "9999      7.838082                0                    3.579927   \n",
      "\n",
      "     App_Usage_Level  Crash_Label  \n",
      "0                Low          0.0  \n",
      "1             Medium          0.0  \n",
      "2             Medium          0.0  \n",
      "3               High          1.0  \n",
      "4               High          0.0  \n",
      "...              ...          ...  \n",
      "9995             Low          0.0  \n",
      "9996          Medium          0.0  \n",
      "9997            High          0.0  \n",
      "9998             Low          0.0  \n",
      "9999             Low          0.0  \n",
      "\n",
      "[10000 rows x 15 columns]\n"
     ]
    }
   ],
   "source": [
    "#Load the data set\n",
    "df = pd.read_csv(\"mobile_crash_data_v1.csv\")\n",
    "print(df)"
   ]
  },
  {
   "cell_type": "code",
   "execution_count": 77,
   "id": "154a76e5-6ba0-4bd4-a43b-ed89460838e9",
   "metadata": {},
   "outputs": [
    {
     "name": "stdout",
     "output_type": "stream",
     "text": [
      "\n",
      "Summary Statistics:\n",
      "       App_Name    CPU_Usage  Memory_Usage  Battery_Level  Temperature  \\\n",
      "count     10000  9800.000000   9608.000000   10000.000000  9800.000000   \n",
      "unique       15          NaN           NaN            NaN          NaN   \n",
      "top     Discord          NaN           NaN            NaN          NaN   \n",
      "freq        701          NaN           NaN            NaN          NaN   \n",
      "mean        NaN    50.054918     70.462252      59.208385    50.039497   \n",
      "std         NaN    28.785568     26.936849      28.561929    17.582422   \n",
      "min         NaN     0.011864      0.000000       0.000000    13.215221   \n",
      "25%         NaN    25.595629     49.795454      35.528953    35.183157   \n",
      "50%         NaN    50.183031     74.519693      60.136686    50.083056   \n",
      "75%         NaN    74.654506     99.388729      84.733938    64.985414   \n",
      "max         NaN    99.989267    100.000000     100.000000    87.610653   \n",
      "\n",
      "          Disk_Space  Network_Signal   App_Version    Error_Logs Device_Model  \\\n",
      "count   10000.000000    10000.000000  10000.000000  10000.000000        10000   \n",
      "unique           NaN             NaN           NaN           NaN            3   \n",
      "top              NaN             NaN           NaN           NaN      Model_B   \n",
      "freq             NaN             NaN           NaN           NaN         3383   \n",
      "mean      258.700062       50.267577      1.320230      0.498600          NaN   \n",
      "std       147.646471       29.022279      0.393455      0.500023          NaN   \n",
      "min         0.066023        0.004754      1.000000      0.000000          NaN   \n",
      "25%       131.374014       25.380448      1.000000      0.000000          NaN   \n",
      "50%       259.050501       49.869707      1.100000      0.000000          NaN   \n",
      "75%       388.007763       75.840364      1.200000      1.000000          NaN   \n",
      "max       511.929107       99.989504      2.000000      1.000000          NaN   \n",
      "\n",
      "        Session_Time  Num_App_Crashes  Duration_Since_Last_Charge  \\\n",
      "count   10000.000000      10000.00000                10000.000000   \n",
      "unique           NaN              NaN                         NaN   \n",
      "top              NaN              NaN                         NaN   \n",
      "freq             NaN              NaN                         NaN   \n",
      "mean      121.431524          0.99770                   24.022879   \n",
      "std        69.494951          0.99418                   13.843945   \n",
      "min         0.002619          0.00000                    0.010987   \n",
      "25%        61.469447          0.00000                   11.962744   \n",
      "50%       122.187146          1.00000                   24.111911   \n",
      "75%       181.975301          2.00000                   35.873595   \n",
      "max       239.988629          6.00000                   47.996014   \n",
      "\n",
      "       App_Usage_Level   Crash_Label  \n",
      "count            10000  10000.000000  \n",
      "unique               3           NaN  \n",
      "top             Medium           NaN  \n",
      "freq              5006           NaN  \n",
      "mean               NaN      0.162000  \n",
      "std                NaN      0.368469  \n",
      "min                NaN      0.000000  \n",
      "25%                NaN      0.000000  \n",
      "50%                NaN      0.000000  \n",
      "75%                NaN      0.000000  \n",
      "max                NaN      1.000000  \n"
     ]
    }
   ],
   "source": [
    "# Summary statistics - This will do find mean and Quantiles finding central tendencies and dispersion\n",
    "print(\"\\nSummary Statistics:\")\n",
    "print(df.describe(include='all'))"
   ]
  },
  {
   "cell_type": "code",
   "execution_count": 78,
   "id": "984aa52e-a8d3-4981-a6ad-7f6d9d03f304",
   "metadata": {},
   "outputs": [
    {
     "name": "stdout",
     "output_type": "stream",
     "text": [
      "\n",
      "Missing Values:\n",
      "App_Name                        0\n",
      "CPU_Usage                     200\n",
      "Memory_Usage                  392\n",
      "Battery_Level                   0\n",
      "Temperature                   200\n",
      "Disk_Space                      0\n",
      "Network_Signal                  0\n",
      "App_Version                     0\n",
      "Error_Logs                      0\n",
      "Device_Model                    0\n",
      "Session_Time                    0\n",
      "Num_App_Crashes                 0\n",
      "Duration_Since_Last_Charge      0\n",
      "App_Usage_Level                 0\n",
      "Crash_Label                     0\n",
      "dtype: int64\n"
     ]
    }
   ],
   "source": [
    "# Checking for missing values\n",
    "print(\"\\nMissing Values:\")\n",
    "print(df.isnull().sum())"
   ]
  },
  {
   "cell_type": "code",
   "execution_count": 79,
   "id": "8ee486b6-0ad8-473f-bcf7-cbb058bd3e4f",
   "metadata": {},
   "outputs": [
    {
     "name": "stdout",
     "output_type": "stream",
     "text": [
      "\n",
      "Missing Values:\n",
      "App_Name                      0\n",
      "CPU_Usage                     0\n",
      "Memory_Usage                  0\n",
      "Battery_Level                 0\n",
      "Temperature                   0\n",
      "Disk_Space                    0\n",
      "Network_Signal                0\n",
      "App_Version                   0\n",
      "Error_Logs                    0\n",
      "Device_Model                  0\n",
      "Session_Time                  0\n",
      "Num_App_Crashes               0\n",
      "Duration_Since_Last_Charge    0\n",
      "App_Usage_Level               0\n",
      "Crash_Label                   0\n",
      "dtype: int64\n",
      "       App_Name  CPU_Usage  Memory_Usage  Battery_Level  Temperature  \\\n",
      "0       Netflix      82.06         92.31         100.00        63.17   \n",
      "1       Twitter      39.23        100.00          34.58        45.32   \n",
      "2       Discord      44.76         59.32          71.00        44.12   \n",
      "3         Slack      73.00         53.90          89.30        60.09   \n",
      "4        Amazon      35.78         94.99          63.74        38.05   \n",
      "...         ...        ...           ...            ...          ...   \n",
      "9995  Instagram      48.51         55.40          24.93        50.57   \n",
      "9996   WhatsApp      66.90         44.10          77.67        59.28   \n",
      "9997   WhatsApp      36.97        100.00          95.36        41.38   \n",
      "9998    Discord      21.31         87.21          61.61        32.12   \n",
      "9999  Instagram      88.49         69.89          64.43        69.10   \n",
      "\n",
      "      Disk_Space  Network_Signal  App_Version  Error_Logs Device_Model  \\\n",
      "0         250.12           76.88          1.0           0      Model_B   \n",
      "1         402.12           28.23          2.0           0      Model_B   \n",
      "2         509.03            2.99          1.2           1      Model_B   \n",
      "3         376.67           49.82          2.0           0      Model_B   \n",
      "4         109.84           90.61          1.1           0      Model_B   \n",
      "...          ...             ...          ...         ...          ...   \n",
      "9995      209.99           63.78          2.0           0      Model_A   \n",
      "9996      167.50           16.57          1.0           0      Model_A   \n",
      "9997       18.54           53.87          1.2           1      Model_B   \n",
      "9998      403.14           37.79          1.0           1      Model_A   \n",
      "9999      133.78           11.05          1.2           0      Model_B   \n",
      "\n",
      "      Session_Time  Num_App_Crashes  Duration_Since_Last_Charge  \\\n",
      "0           228.10                0                       46.38   \n",
      "1           225.45                1                       47.34   \n",
      "2           197.17                2                       43.61   \n",
      "3           224.38                0                       34.65   \n",
      "4            93.98                3                       42.33   \n",
      "...            ...              ...                         ...   \n",
      "9995         61.86                1                       38.55   \n",
      "9996         89.09                0                       18.69   \n",
      "9997         34.91                1                       16.39   \n",
      "9998        187.29                3                       47.17   \n",
      "9999          7.84                0                        3.58   \n",
      "\n",
      "     App_Usage_Level  Crash_Label  \n",
      "0                Low          0.0  \n",
      "1             Medium          0.0  \n",
      "2             Medium          0.0  \n",
      "3               High          1.0  \n",
      "4               High          0.0  \n",
      "...              ...          ...  \n",
      "9995             Low          0.0  \n",
      "9996          Medium          0.0  \n",
      "9997            High          0.0  \n",
      "9998             Low          0.0  \n",
      "9999             Low          0.0  \n",
      "\n",
      "[10000 rows x 15 columns]\n"
     ]
    }
   ],
   "source": [
    "# Impute missing values by replacing with mean\n",
    "df['CPU_Usage']=df['CPU_Usage'].fillna(df['CPU_Usage'].mean())\n",
    "\n",
    "df['Memory_Usage']=df['Memory_Usage'].fillna(df['Memory_Usage'].median())\n",
    "\n",
    "df['Temperature']=df['Temperature'].ffill()\n",
    "\n",
    "\n",
    "print(\"\\nMissing Values:\")\n",
    "print(df.isnull().sum())\n",
    "\n",
    "\n",
    "df = df.round(2)\n",
    "print(df)"
   ]
  },
  {
   "cell_type": "code",
   "execution_count": 80,
   "id": "950ac754-da24-41f7-bba1-e64188496b6b",
   "metadata": {
    "scrolled": true
   },
   "outputs": [
    {
     "name": "stdout",
     "output_type": "stream",
     "text": [
      "\n",
      "Data Types:\n",
      "App_Name                       object\n",
      "CPU_Usage                     float64\n",
      "Memory_Usage                  float64\n",
      "Battery_Level                 float64\n",
      "Temperature                   float64\n",
      "Disk_Space                    float64\n",
      "Network_Signal                float64\n",
      "App_Version                   float64\n",
      "Error_Logs                      int64\n",
      "Device_Model                   object\n",
      "Session_Time                  float64\n",
      "Num_App_Crashes                 int64\n",
      "Duration_Since_Last_Charge    float64\n",
      "App_Usage_Level                object\n",
      "Crash_Label                   float64\n",
      "dtype: object\n"
     ]
    }
   ],
   "source": [
    "# Data type information\n",
    "print(\"\\nData Types:\")\n",
    "print(df.dtypes)"
   ]
  },
  {
   "cell_type": "code",
   "execution_count": 81,
   "id": "d7731cc3-8ad1-4143-9d01-f9e7c2de37a0",
   "metadata": {},
   "outputs": [
    {
     "name": "stdout",
     "output_type": "stream",
     "text": [
      "0.0\n",
      "100.0\n",
      "[  0.  25.  50.  75. 100.]\n"
     ]
    }
   ],
   "source": [
    "# 1. Distance binning\n",
    "# Formula -> interval = (max-min) / Number of Bins\n",
    "# Let us consider the 'Battery Level' continuous value column for binning\n",
    "min_value = df['Battery_Level'].min()\n",
    "max_value = df['Battery_Level'].max()\n",
    "print(min_value)\n",
    "print(max_value)\n",
    "\n",
    "# Suppose the bin size is 5\n",
    "# linspace returns evenly spaced numbers over a specified interval. \n",
    "# Returns num evenly spaced samples, calculated over the interval [start, stop].\n",
    "bins = np.linspace(min_value,max_value,5)\n",
    "print(bins)"
   ]
  },
  {
   "cell_type": "code",
   "execution_count": 82,
   "id": "21512c30-ce7a-44a5-a791-851fb12cac30",
   "metadata": {},
   "outputs": [
    {
     "name": "stdout",
     "output_type": "stream",
     "text": [
      "0       Sufficient\n",
      "1              Low\n",
      "2         Moderate\n",
      "3       Sufficient\n",
      "4         Moderate\n",
      "           ...    \n",
      "9995      Very Low\n",
      "9996    Sufficient\n",
      "9997    Sufficient\n",
      "9998      Moderate\n",
      "9999      Moderate\n",
      "Name: Battery_Level, Length: 10000, dtype: category\n",
      "Categories (4, object): ['Very Low' < 'Low' < 'Moderate' < 'Sufficient']\n"
     ]
    }
   ],
   "source": [
    "labels = ['Very Low', 'Low', 'Moderate', 'Sufficient'];\n",
    "\n",
    "# We can use the cut() function to convert the numeric values of the column Age into the categorical values.\n",
    "# We need to specify the bins and the labels.\n",
    "df['Battery_Level'] = pd.cut(df['Battery_Level'], bins=bins, labels=labels, include_lowest=True)\n",
    "print(df['Battery_Level'])\n",
    "\n"
   ]
  },
  {
   "cell_type": "code",
   "execution_count": 83,
   "id": "ebad2568-4e66-4b73-8ac2-9570dc2cb8da",
   "metadata": {},
   "outputs": [
    {
     "name": "stdout",
     "output_type": "stream",
     "text": [
      "0       1\n",
      "1       2\n",
      "2       2\n",
      "3       0\n",
      "4       0\n",
      "       ..\n",
      "9995    1\n",
      "9996    2\n",
      "9997    0\n",
      "9998    1\n",
      "9999    1\n",
      "Name: App_Usage_Level, Length: 10000, dtype: int64\n",
      "0       1\n",
      "1       1\n",
      "2       1\n",
      "3       1\n",
      "4       1\n",
      "       ..\n",
      "9995    0\n",
      "9996    0\n",
      "9997    1\n",
      "9998    0\n",
      "9999    1\n",
      "Name: Device_Model, Length: 10000, dtype: int64\n",
      "0        6\n",
      "1       11\n",
      "2        1\n",
      "3        7\n",
      "4        0\n",
      "        ..\n",
      "9995     4\n",
      "9996    13\n",
      "9997    13\n",
      "9998     1\n",
      "9999     4\n",
      "Name: App_Name, Length: 10000, dtype: int64\n",
      "0       2\n",
      "1       0\n",
      "2       1\n",
      "3       2\n",
      "4       1\n",
      "       ..\n",
      "9995    3\n",
      "9996    2\n",
      "9997    2\n",
      "9998    1\n",
      "9999    1\n",
      "Name: Battery_Level, Length: 10000, dtype: int64\n"
     ]
    }
   ],
   "source": [
    "from sklearn.preprocessing import LabelEncoder\n",
    "le = LabelEncoder()  \n",
    "df['App_Usage_Level']=le.fit_transform(df['App_Usage_Level'])\n",
    "print(df['App_Usage_Level'])\n",
    "\n",
    "df['Device_Model']=le.fit_transform(df['Device_Model'])\n",
    "print(df['Device_Model'])\n",
    "\n",
    "df['App_Name']=le.fit_transform(df['App_Name'])\n",
    "print(df['App_Name'])\n",
    "\n",
    "df['Battery_Level']=le.fit_transform(df['Battery_Level'])\n",
    "print(df['Battery_Level'])\n"
   ]
  },
  {
   "cell_type": "code",
   "execution_count": 34,
   "id": "40d693af-2a85-4170-aeca-ca613e1ac554",
   "metadata": {},
   "outputs": [
    {
     "name": "stdout",
     "output_type": "stream",
     "text": [
      "\n",
      "Data Types:\n",
      "App_Name                         int64\n",
      "CPU_Usage                      float64\n",
      "Memory_Usage                   float64\n",
      "Battery_Level                 category\n",
      "Temperature                    float64\n",
      "Disk_Space                     float64\n",
      "Network_Signal                 float64\n",
      "App_Version                    float64\n",
      "Error_Logs                       int64\n",
      "Device_Model                     int64\n",
      "Session_Time                   float64\n",
      "Num_App_Crashes                  int64\n",
      "Duration_Since_Last_Charge     float64\n",
      "App_Usage_Level                  int64\n",
      "Crash_Label                    float64\n",
      "dtype: object\n"
     ]
    }
   ],
   "source": [
    "# Data type information\n",
    "print(\"\\nData Types:\")\n",
    "print(df.dtypes)"
   ]
  },
  {
   "cell_type": "code",
   "execution_count": 84,
   "id": "787964e4-dc18-4bcc-abfd-14a84387d19a",
   "metadata": {},
   "outputs": [
    {
     "name": "stdout",
     "output_type": "stream",
     "text": [
      "Pearson correlation: 0.953\n"
     ]
    },
    {
     "data": {
      "image/png": "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",
      "text/plain": [
       "<Figure size 640x480 with 1 Axes>"
      ]
     },
     "metadata": {},
     "output_type": "display_data"
    }
   ],
   "source": [
    "from scipy.stats import pearsonr\n",
    "# Convert dataframe into series\n",
    "list1 = df['CPU_Usage']\n",
    "list2 = df['Temperature']\n",
    " \n",
    "# Apply the pearsonr()\n",
    "corr, _ = pearsonr(list1, list2)\n",
    "print('Pearson correlation: %.3f' % corr)\n",
    "\n",
    "# Pearson correlation: 0.205 (Moderate Positive correlation)\n",
    "# Interpretaton:\n",
    "# As the CPU usage of the device increases, memory also increases\n",
    "\n",
    "# Draw a Plot of the relationship\n",
    "# 'CPU' on the X Axis and 'Memory' on the Y axis\n",
    "from matplotlib import pyplot\n",
    "pyplot.scatter(list1, list2)\n",
    "pyplot.show()"
   ]
  },
  {
   "cell_type": "code",
   "execution_count": 85,
   "id": "16654353-669b-4607-9cbe-4812d277a26c",
   "metadata": {},
   "outputs": [
    {
     "name": "stdout",
     "output_type": "stream",
     "text": [
      "\n",
      "Normalized DataFrame:\n",
      "      App_Name  CPU_Usage  Memory_Usage  Battery_Level  Temperature  \\\n",
      "0     0.428571   0.820664        0.9231       0.666667     0.671461   \n",
      "1     0.785714   0.392278        1.0000       0.000000     0.431510   \n",
      "2     0.071429   0.447590        0.5932       0.333333     0.415378   \n",
      "3     0.500000   0.730046        0.5390       0.666667     0.630058   \n",
      "4     0.000000   0.357772        0.9499       0.333333     0.333781   \n",
      "...        ...        ...           ...            ...          ...   \n",
      "9995  0.285714   0.485097        0.5540       1.000000     0.502084   \n",
      "9996  0.928571   0.669034        0.4410       0.666667     0.619169   \n",
      "9997  0.928571   0.369674        1.0000       0.666667     0.378546   \n",
      "9998  0.071429   0.213043        0.8721       0.333333     0.254066   \n",
      "9999  0.285714   0.884977        0.6989       0.333333     0.751176   \n",
      "\n",
      "      Disk_Space  Network_Signal  App_Version  Error_Logs  Device_Model  \\\n",
      "0       0.488512        0.768877          0.0         0.0           0.5   \n",
      "1       0.785469        0.282328          1.0         0.0           0.5   \n",
      "2       0.994334        0.029903          0.2         1.0           0.5   \n",
      "3       0.735748        0.498250          1.0         0.0           0.5   \n",
      "4       0.214453        0.906191          0.1         0.0           0.5   \n",
      "...          ...             ...          ...         ...           ...   \n",
      "9995    0.410112        0.637864          1.0         0.0           0.0   \n",
      "9996    0.327101        0.165717          0.0         0.0           0.0   \n",
      "9997    0.036084        0.538754          0.2         1.0           0.5   \n",
      "9998    0.787461        0.377938          0.0         1.0           0.0   \n",
      "9999    0.261224        0.110511          0.2         0.0           0.5   \n",
      "\n",
      "      Session_Time  Num_App_Crashes  Duration_Since_Last_Charge  \\\n",
      "0         0.950456         0.000000                    0.966243   \n",
      "1         0.939414         0.166667                    0.986247   \n",
      "2         0.821576         0.333333                    0.908523   \n",
      "3         0.934956         0.000000                    0.721817   \n",
      "4         0.391600         0.500000                    0.881850   \n",
      "...            ...              ...                         ...   \n",
      "9995      0.257761         0.166667                    0.803084   \n",
      "9996      0.371224         0.000000                    0.389248   \n",
      "9997      0.145464         0.166667                    0.341321   \n",
      "9998      0.780408         0.500000                    0.982705   \n",
      "9999      0.032668         0.000000                    0.074390   \n",
      "\n",
      "      App_Usage_Level  Crash_Label  \n",
      "0                 0.5          0.0  \n",
      "1                 1.0          0.0  \n",
      "2                 1.0          0.0  \n",
      "3                 0.0          1.0  \n",
      "4                 0.0          0.0  \n",
      "...               ...          ...  \n",
      "9995              0.5          0.0  \n",
      "9996              1.0          0.0  \n",
      "9997              0.0          0.0  \n",
      "9998              0.5          0.0  \n",
      "9999              0.5          0.0  \n",
      "\n",
      "[10000 rows x 15 columns]\n"
     ]
    }
   ],
   "source": [
    "# Normalize Numerical Data\n",
    "# copy the data\n",
    "df_min_max_scaled = df.copy()\n",
    "\n",
    "# Loop through each numerical column\n",
    "for column in df_min_max_scaled.select_dtypes(include=['int64', 'float64']).columns:\n",
    "    min_val = df[column].min()\n",
    "    max_val = df[column].max()\n",
    "    df_min_max_scaled[column] = (df[column] - min_val) / (max_val - min_val)\n",
    "\n",
    "# Display the normalized DataFrame\n",
    "print(\"\\nNormalized DataFrame:\")\n",
    "print(df_min_max_scaled)"
   ]
  },
  {
   "cell_type": "code",
   "execution_count": 92,
   "id": "18ff9c71-3e98-4663-8107-3509fbac24d4",
   "metadata": {},
   "outputs": [
    {
     "data": {
      "image/png": "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      "text/plain": [
       "<Figure size 1000x600 with 2 Axes>"
      ]
     },
     "metadata": {},
     "output_type": "display_data"
    }
   ],
   "source": [
    "from tkinter import TRUE \n",
    "# Correlation Matrix - Internally uses Pearson Correlation\n",
    "cor = df_min_max_scaled.corr()\n",
    "\n",
    "# Plotting Heatmap\n",
    "plt.figure(figsize = (10,6))\n",
    "#sns.heatmap(cor, annot=True)\n",
    "sns.heatmap(\n",
    "    cor,\n",
    "    annot=True,              # Annotate cells with their values\n",
    "    fmt=\".2f\",              # Format for annotation\n",
    "    cmap='coolwarm',        # Color map\n",
    "    cbar=True,              # Show color bar\n",
    "    linewidths=.5,          # Lines between cells\n",
    "    linecolor='black',       # Color of the lines\n",
    "    square=False,            # Make cells square-shaped\n",
    "    xticklabels=True,       # Show x-tick labels\n",
    "    yticklabels=True        # Show y-tick labels\n",
    ")\n",
    "plt.show()"
   ]
  },
  {
   "cell_type": "code",
   "execution_count": null,
   "id": "ac9bb897-9dcd-4b86-bd3c-8411271a44d9",
   "metadata": {},
   "outputs": [],
   "source": []
  }
 ],
 "metadata": {
  "kernelspec": {
   "display_name": "Python 3 (ipykernel)",
   "language": "python",
   "name": "python3"
  },
  "language_info": {
   "codemirror_mode": {
    "name": "ipython",
    "version": 3
   },
   "file_extension": ".py",
   "mimetype": "text/x-python",
   "name": "python",
   "nbconvert_exporter": "python",
   "pygments_lexer": "ipython3",
   "version": "3.12.6"
  }
 },
 "nbformat": 4,
 "nbformat_minor": 5
}
